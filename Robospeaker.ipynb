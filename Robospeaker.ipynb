{
 "cells": [
  {
   "cell_type": "code",
   "execution_count": 2,
   "id": "565d4a17",
   "metadata": {
    "collapsed": true
   },
   "outputs": [
    {
     "name": "stdout",
     "output_type": "stream",
     "text": [
      "Collecting pyttsx3\n",
      "  Obtaining dependency information for pyttsx3 from https://files.pythonhosted.org/packages/e4/ed/beb8596ee4721ee44000aeab29e1ad8c6b7634d1e72d536fa1e9e9644d88/pyttsx3-2.91-py3-none-any.whl.metadata\n",
      "  Downloading pyttsx3-2.91-py3-none-any.whl.metadata (3.8 kB)\n",
      "Collecting comtypes (from pyttsx3)\n",
      "  Obtaining dependency information for comtypes from https://files.pythonhosted.org/packages/91/85/3885c830af528337619f8bc8d0d3e56576077cafbb1b51977ffc7e17888c/comtypes-1.4.6-py3-none-any.whl.metadata\n",
      "  Downloading comtypes-1.4.6-py3-none-any.whl.metadata (6.4 kB)\n",
      "Collecting pypiwin32 (from pyttsx3)\n",
      "  Obtaining dependency information for pypiwin32 from https://files.pythonhosted.org/packages/d0/1b/2f292bbd742e369a100c91faa0483172cd91a1a422a6692055ac920946c5/pypiwin32-223-py3-none-any.whl.metadata\n",
      "  Downloading pypiwin32-223-py3-none-any.whl.metadata (236 bytes)\n",
      "Requirement already satisfied: pywin32 in c:\\users\\hp\\anaconda3\\lib\\site-packages (from pyttsx3) (305.1)\n",
      "Downloading pyttsx3-2.91-py3-none-any.whl (33 kB)\n",
      "Downloading comtypes-1.4.6-py3-none-any.whl (222 kB)\n",
      "   ---------------------------------------- 0.0/222.1 kB ? eta -:--:--\n",
      "   - -------------------------------------- 10.2/222.1 kB ? eta -:--:--\n",
      "   ----- --------------------------------- 30.7/222.1 kB 435.7 kB/s eta 0:00:01\n",
      "   ----- --------------------------------- 30.7/222.1 kB 435.7 kB/s eta 0:00:01\n",
      "   ----- --------------------------------- 30.7/222.1 kB 435.7 kB/s eta 0:00:01\n",
      "   ------- ------------------------------- 41.0/222.1 kB 151.3 kB/s eta 0:00:02\n",
      "   ------- ------------------------------- 41.0/222.1 kB 151.3 kB/s eta 0:00:02\n",
      "   ---------- ---------------------------- 61.4/222.1 kB 172.4 kB/s eta 0:00:01\n",
      "   ------------ -------------------------- 71.7/222.1 kB 163.8 kB/s eta 0:00:01\n",
      "   ---------------- ---------------------- 92.2/222.1 kB 194.1 kB/s eta 0:00:01\n",
      "   ----------------- -------------------- 102.4/222.1 kB 203.4 kB/s eta 0:00:01\n",
      "   ---------------------- --------------- 133.1/222.1 kB 238.6 kB/s eta 0:00:01\n",
      "   ---------------------- --------------- 133.1/222.1 kB 238.6 kB/s eta 0:00:01\n",
      "   ----------------------------- -------- 174.1/222.1 kB 269.0 kB/s eta 0:00:01\n",
      "   ----------------------------- -------- 174.1/222.1 kB 269.0 kB/s eta 0:00:01\n",
      "   ----------------------------------- -- 204.8/222.1 kB 283.2 kB/s eta 0:00:01\n",
      "   -------------------------------------- 222.1/222.1 kB 295.0 kB/s eta 0:00:00\n",
      "Downloading pypiwin32-223-py3-none-any.whl (1.7 kB)\n",
      "Installing collected packages: pypiwin32, comtypes, pyttsx3\n",
      "Successfully installed comtypes-1.4.6 pypiwin32-223 pyttsx3-2.91\n",
      "Note: you may need to restart the kernel to use updated packages.\n"
     ]
    }
   ],
   "source": [
    "pip install pyttsx3\n"
   ]
  },
  {
   "cell_type": "code",
   "execution_count": 3,
   "id": "18841c34",
   "metadata": {},
   "outputs": [
    {
     "name": "stdout",
     "output_type": "stream",
     "text": [
      "Welcome to Robospeaker\n",
      "Enter the speech rate (e.g., 150 for normal speed): 150\n",
      "Enter the volume level (0.0 to 1.0): 0.9\n",
      "Enter what you want me to speak (or 'q' to quit): Speak Whatever you want\n",
      "Enter what you want me to speak (or 'q' to quit): q\n",
      "Goodbye!\n"
     ]
    }
   ],
   "source": [
    "import pyttsx3\n",
    "import time\n",
    "\n",
    "if __name__ == '__main__':\n",
    "    print(\"Welcome to Robospeaker\")\n",
    "    time.sleep(1.0)  # Add a slight delay to ensure the message prints first\n",
    "    engine = pyttsx3.init()\n",
    "    rate = int(input(\"Enter the speech rate (e.g., 150 for normal speed): \"))\n",
    "    volume = float(input(\"Enter the volume level (0.0 to 1.0): \"))\n",
    "    # Set properties (optional)\n",
    "    engine.setProperty('rate', rate)     # Speed of speech\n",
    "    engine.setProperty('volume', volume)   # Volume level (0.0 to 1.0)\n",
    "    while True:\n",
    "        x = input(\"Enter what you want me to speak (or 'q' to quit): \")\n",
    "        if x.lower() == \"q\":\n",
    "            engine.say(\"Thank you for using me\")\n",
    "            engine.runAndWait()\n",
    "            print(\"Goodbye!\")\n",
    "            break\n",
    "        engine.say(x)\n",
    "        engine.runAndWait()"
   ]
  },
  {
   "cell_type": "code",
   "execution_count": null,
   "id": "40815cc3",
   "metadata": {},
   "outputs": [],
   "source": []
  }
 ],
 "metadata": {
  "kernelspec": {
   "display_name": "Python 3 (ipykernel)",
   "language": "python",
   "name": "python3"
  },
  "language_info": {
   "codemirror_mode": {
    "name": "ipython",
    "version": 3
   },
   "file_extension": ".py",
   "mimetype": "text/x-python",
   "name": "python",
   "nbconvert_exporter": "python",
   "pygments_lexer": "ipython3",
   "version": "3.11.5"
  }
 },
 "nbformat": 4,
 "nbformat_minor": 5
}
